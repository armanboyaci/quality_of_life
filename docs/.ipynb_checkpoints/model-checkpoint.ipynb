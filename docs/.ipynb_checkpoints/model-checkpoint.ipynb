{
 "cells": [
  {
   "cell_type": "markdown",
   "metadata": {},
   "source": [
    "- boosting\n",
    "- model description\n",
    "- what external data sources can be added?\n",
    "\n",
    "    - https://www.kaggle.com/unsdsn/world-happiness/kernels\n",
    "    - http://www.oecdbetterlifeindex.org/#/11111111111\n",
    "    - http://worldhappiness.report/faq/\n",
    "\n",
    "\n",
    "\n",
    "> ### The fundemental question is **what are the most important factors to improve the quality of life?** This kind of analysis may help policymakers to allocate budgets.\n",
    "\n",
    "# Predictive Model\n",
    "- Suppose that a country spends a lot of money on education. We will probably see the impact on the long run? You can naively conclude that spending money on education does not improve quality of life.\n",
    "- What if there are other factors missing in this analysis?"
   ]
  },
  {
   "cell_type": "code",
   "execution_count": null,
   "metadata": {},
   "outputs": [],
   "source": []
  }
 ],
 "metadata": {
  "kernelspec": {
   "display_name": "Python 3",
   "language": "python",
   "name": "python3"
  },
  "language_info": {
   "codemirror_mode": {
    "name": "ipython",
    "version": 3
   },
   "file_extension": ".py",
   "mimetype": "text/x-python",
   "name": "python",
   "nbconvert_exporter": "python",
   "pygments_lexer": "ipython3",
   "version": "3.7.1"
  }
 },
 "nbformat": 4,
 "nbformat_minor": 2
}
